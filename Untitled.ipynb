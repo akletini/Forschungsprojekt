{
 "cells": [
  {
   "cell_type": "code",
   "execution_count": 1,
   "id": "7c1a7578-dd40-4609-9b47-a18599399578",
   "metadata": {},
   "outputs": [
    {
     "name": "stderr",
     "output_type": "stream",
     "text": [
      "c:\\users\\allen\\appdata\\local\\programs\\python\\python39\\lib\\site-packages\\numpy\\_distributor_init.py:30: UserWarning: loaded more than 1 DLL from .libs:\n",
      "c:\\users\\allen\\appdata\\local\\programs\\python\\python39\\lib\\site-packages\\numpy\\.libs\\libopenblas.4SP5SUA7CBGXUEOC35YP2ASOICYYEQZZ.gfortran-win_amd64.dll\n",
      "c:\\users\\allen\\appdata\\local\\programs\\python\\python39\\lib\\site-packages\\numpy\\.libs\\libopenblas.GK7GX5KEQ4F6UYO3P26ULGBQYHGQO7J4.gfortran-win_amd64.dll\n",
      "  warnings.warn(\"loaded more than 1 DLL from .libs:\"\n"
     ]
    }
   ],
   "source": [
    "import matplotlib.pyplot as plt\n",
    "import numpy as np\n",
    "import pandas as pd\n",
    "import seaborn as sns\n",
    "\n",
    "import utils"
   ]
  },
  {
   "cell_type": "code",
   "execution_count": 72,
   "id": "9f25c184-d4c3-45a7-8139-1a7a93c09063",
   "metadata": {},
   "outputs": [],
   "source": [
    "\n",
    "step = 2\n",
    "arr_length = 10\n",
    "window_size = 3"
   ]
  },
  {
   "cell_type": "code",
   "execution_count": 73,
   "id": "22ca7c88-e670-498a-bd8c-06cf3a00ec69",
   "metadata": {},
   "outputs": [],
   "source": [
    "values = [4, 8, 7, 0, 8, 9, 9, 3, 1, 2]\n",
    "keys = range(arr_length)\n",
    "data = pd.DataFrame({\"index\": keys, \"values\": values})"
   ]
  },
  {
   "cell_type": "code",
   "execution_count": 74,
   "id": "c64d6c2f-8a5d-4745-a76c-b4ec5f7aaab0",
   "metadata": {},
   "outputs": [
    {
     "data": {
      "text/plain": [
       "<AxesSubplot:xlabel='index', ylabel='values'>"
      ]
     },
     "execution_count": 74,
     "metadata": {},
     "output_type": "execute_result"
    },
    {
     "data": {
      "image/png": "[encoded data removed]",
      "text/plain": [
       "<Figure size 432x288 with 1 Axes>"
      ]
     },
     "metadata": {
      "needs_background": "light"
     },
     "output_type": "display_data"
    }
   ],
   "source": [
    "sns.lineplot(x=\"index\", y=\"values\", data=data)"
   ]
  },
  {
   "cell_type": "code",
   "execution_count": 75,
   "id": "4750ce39-8cf9-4063-a910-731df79e9108",
   "metadata": {},
   "outputs": [
    {
     "data": {
      "text/plain": [
       "[4, 8, 7, 0, 8, 9, 9, 3, 1, 2]"
      ]
     },
     "execution_count": 75,
     "metadata": {},
     "output_type": "execute_result"
    }
   ],
   "source": [
    "values"
   ]
  },
  {
   "cell_type": "code",
   "execution_count": 78,
   "id": "c63b766e-2b3a-483d-9e17-8a8d5dca263a",
   "metadata": {},
   "outputs": [
    {
     "data": {
      "text/plain": [
       "[[4, 8, 7], [7, 0, 8], [8, 9, 9], [9, 3, 1]]"
      ]
     },
     "execution_count": 78,
     "metadata": {},
     "output_type": "execute_result"
    }
   ],
   "source": [
    "windows = []\n",
    "start = 0\n",
    "while start < arr_length - 1:\n",
    "    end = start + window_size\n",
    "    current_window = values[start:end]\n",
    "    if len(current_window) == window_size:\n",
    "        windows.append(current_window)\n",
    "    start = start + step\n",
    "windows"
   ]
  },
  {
   "cell_type": "code",
   "execution_count": null,
   "id": "485799ba-03ec-4704-8818-61ca814745f5",
   "metadata": {},
   "outputs": [],
   "source": []
  }
 ],
 "metadata": {
  "kernelspec": {
   "display_name": "Python 3 (ipykernel)",
   "language": "python",
   "name": "python3"
  },
  "language_info": {
   "codemirror_mode": {
    "name": "ipython",
    "version": 3
   },
   "file_extension": ".py",
   "mimetype": "text/x-python",
   "name": "python",
   "nbconvert_exporter": "python",
   "pygments_lexer": "ipython3",
   "version": "3.9.1"
  }
 },
 "nbformat": 4,
 "nbformat_minor": 5
}
